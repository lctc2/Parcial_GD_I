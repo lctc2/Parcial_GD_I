{
 "cells": [
  {
   "cell_type": "code",
   "execution_count": 61,
   "id": "28fbb6f2",
   "metadata": {},
   "outputs": [],
   "source": [
    "##Importar las librerías requeridas para el análisis\n",
    "import numpy as np\n",
    "import pandas as pd\n",
    "import seaborn as sns\n",
    "import matplotlib.pyplot as plt\n",
    "\n",
    "%matplotlib inline"
   ]
  },
  {
   "cell_type": "code",
   "execution_count": 2,
   "id": "6010e011",
   "metadata": {},
   "outputs": [],
   "source": [
    "##Definir tamaño máximo de filas a mostrar\n",
    "pd.set_option('display.max_rows', 100)"
   ]
  },
  {
   "cell_type": "code",
   "execution_count": 5,
   "id": "62050c2b",
   "metadata": {},
   "outputs": [],
   "source": [
    "##Importar el dataset del CSV\n",
    "estudiantes_df = pd.read_csv('./data/estudiantes.csv', low_memory = False)"
   ]
  },
  {
   "cell_type": "code",
   "execution_count": 38,
   "id": "b3589257",
   "metadata": {},
   "outputs": [
    {
     "data": {
      "text/html": [
       "<div>\n",
       "<style scoped>\n",
       "    .dataframe tbody tr th:only-of-type {\n",
       "        vertical-align: middle;\n",
       "    }\n",
       "\n",
       "    .dataframe tbody tr th {\n",
       "        vertical-align: top;\n",
       "    }\n",
       "\n",
       "    .dataframe thead th {\n",
       "        text-align: right;\n",
       "    }\n",
       "</style>\n",
       "<table border=\"1\" class=\"dataframe\">\n",
       "  <thead>\n",
       "    <tr style=\"text-align: right;\">\n",
       "      <th></th>\n",
       "      <th>gender</th>\n",
       "      <th>race/ethnicity</th>\n",
       "      <th>parental level of education</th>\n",
       "      <th>lunch</th>\n",
       "      <th>test preparation course</th>\n",
       "      <th>math score</th>\n",
       "      <th>reading score</th>\n",
       "      <th>writing score</th>\n",
       "    </tr>\n",
       "  </thead>\n",
       "  <tbody>\n",
       "    <tr>\n",
       "      <th>0</th>\n",
       "      <td>non-binary</td>\n",
       "      <td>group B</td>\n",
       "      <td>bachelor's degree</td>\n",
       "      <td>standard</td>\n",
       "      <td>none</td>\n",
       "      <td>72.0</td>\n",
       "      <td>72.0</td>\n",
       "      <td>NaN</td>\n",
       "    </tr>\n",
       "    <tr>\n",
       "      <th>1</th>\n",
       "      <td>female</td>\n",
       "      <td>group C</td>\n",
       "      <td>some college</td>\n",
       "      <td>standard</td>\n",
       "      <td>completed</td>\n",
       "      <td>69.0</td>\n",
       "      <td>90.0</td>\n",
       "      <td>88.0</td>\n",
       "    </tr>\n",
       "    <tr>\n",
       "      <th>2</th>\n",
       "      <td>female</td>\n",
       "      <td>group B</td>\n",
       "      <td>master's degree</td>\n",
       "      <td>standard</td>\n",
       "      <td>none</td>\n",
       "      <td>90.0</td>\n",
       "      <td>95.0</td>\n",
       "      <td>93.0</td>\n",
       "    </tr>\n",
       "    <tr>\n",
       "      <th>3</th>\n",
       "      <td>male</td>\n",
       "      <td>group A</td>\n",
       "      <td>associate's degree</td>\n",
       "      <td>free/reduced</td>\n",
       "      <td>none</td>\n",
       "      <td>NaN</td>\n",
       "      <td>57.0</td>\n",
       "      <td>44.0</td>\n",
       "    </tr>\n",
       "    <tr>\n",
       "      <th>4</th>\n",
       "      <td>male</td>\n",
       "      <td>group C</td>\n",
       "      <td>some college</td>\n",
       "      <td>standard</td>\n",
       "      <td>none</td>\n",
       "      <td>76.0</td>\n",
       "      <td>78.0</td>\n",
       "      <td>75.0</td>\n",
       "    </tr>\n",
       "    <tr>\n",
       "      <th>...</th>\n",
       "      <td>...</td>\n",
       "      <td>...</td>\n",
       "      <td>...</td>\n",
       "      <td>...</td>\n",
       "      <td>...</td>\n",
       "      <td>...</td>\n",
       "      <td>...</td>\n",
       "      <td>...</td>\n",
       "    </tr>\n",
       "    <tr>\n",
       "      <th>995</th>\n",
       "      <td>female</td>\n",
       "      <td>group E</td>\n",
       "      <td>master's degree</td>\n",
       "      <td>standard</td>\n",
       "      <td>completed</td>\n",
       "      <td>88.0</td>\n",
       "      <td>69.0</td>\n",
       "      <td>95.0</td>\n",
       "    </tr>\n",
       "    <tr>\n",
       "      <th>996</th>\n",
       "      <td>male</td>\n",
       "      <td>group C</td>\n",
       "      <td>high school</td>\n",
       "      <td>free/reduced</td>\n",
       "      <td>none</td>\n",
       "      <td>62.0</td>\n",
       "      <td>55.0</td>\n",
       "      <td>55.0</td>\n",
       "    </tr>\n",
       "    <tr>\n",
       "      <th>997</th>\n",
       "      <td>female</td>\n",
       "      <td>group C</td>\n",
       "      <td>high school</td>\n",
       "      <td>free/reduced</td>\n",
       "      <td>completed</td>\n",
       "      <td>59.0</td>\n",
       "      <td>69.0</td>\n",
       "      <td>65.0</td>\n",
       "    </tr>\n",
       "    <tr>\n",
       "      <th>998</th>\n",
       "      <td>no reporta</td>\n",
       "      <td>group D</td>\n",
       "      <td>some college</td>\n",
       "      <td>standard</td>\n",
       "      <td>completed</td>\n",
       "      <td>68.0</td>\n",
       "      <td>78.0</td>\n",
       "      <td>77.0</td>\n",
       "    </tr>\n",
       "    <tr>\n",
       "      <th>999</th>\n",
       "      <td>female</td>\n",
       "      <td>group D</td>\n",
       "      <td>some college</td>\n",
       "      <td>free/reduced</td>\n",
       "      <td>none</td>\n",
       "      <td>77.0</td>\n",
       "      <td>86.0</td>\n",
       "      <td>86.0</td>\n",
       "    </tr>\n",
       "  </tbody>\n",
       "</table>\n",
       "<p>1000 rows × 8 columns</p>\n",
       "</div>"
      ],
      "text/plain": [
       "         gender race/ethnicity parental level of education         lunch  \\\n",
       "0    non-binary        group B           bachelor's degree      standard   \n",
       "1        female        group C                some college      standard   \n",
       "2        female        group B             master's degree      standard   \n",
       "3          male        group A          associate's degree  free/reduced   \n",
       "4          male        group C                some college      standard   \n",
       "..          ...            ...                         ...           ...   \n",
       "995      female        group E             master's degree      standard   \n",
       "996        male        group C                 high school  free/reduced   \n",
       "997      female        group C                 high school  free/reduced   \n",
       "998  no reporta        group D                some college      standard   \n",
       "999      female        group D                some college  free/reduced   \n",
       "\n",
       "    test preparation course  math score  reading score  writing score  \n",
       "0                      none        72.0           72.0            NaN  \n",
       "1                 completed        69.0           90.0           88.0  \n",
       "2                      none        90.0           95.0           93.0  \n",
       "3                      none         NaN           57.0           44.0  \n",
       "4                      none        76.0           78.0           75.0  \n",
       "..                      ...         ...            ...            ...  \n",
       "995               completed        88.0           69.0           95.0  \n",
       "996                    none        62.0           55.0           55.0  \n",
       "997               completed        59.0           69.0           65.0  \n",
       "998               completed        68.0           78.0           77.0  \n",
       "999                    none        77.0           86.0           86.0  \n",
       "\n",
       "[1000 rows x 8 columns]"
      ]
     },
     "execution_count": 38,
     "metadata": {},
     "output_type": "execute_result"
    }
   ],
   "source": [
    "estudiantes_df"
   ]
  },
  {
   "cell_type": "markdown",
   "id": "3187a33c",
   "metadata": {},
   "source": [
    "##### 1. ¿Qué tipo de variables tiene el dataset? Detalle el tipo de variable de cada columna.  \n",
    "##### R:// Se puede observar que el conjunto de datos cuenta con 8 variables las cuales 5 de ellas son categoricas y 3 restantes son de tipo cualitativa discretas de tipo decimal."
   ]
  },
  {
   "cell_type": "code",
   "execution_count": 10,
   "id": "0a90fc18",
   "metadata": {},
   "outputs": [
    {
     "data": {
      "text/plain": [
       "gender                          object\n",
       "race/ethnicity                  object\n",
       "parental level of education     object\n",
       "lunch                           object\n",
       "test preparation course         object\n",
       "math score                     float64\n",
       "reading score                  float64\n",
       "writing score                  float64\n",
       "dtype: object"
      ]
     },
     "execution_count": 10,
     "metadata": {},
     "output_type": "execute_result"
    }
   ],
   "source": [
    "#Verificamos el tipo de variable de cada columna\n",
    "estudiantes_df.dtypes"
   ]
  },
  {
   "cell_type": "markdown",
   "id": "4292c59a",
   "metadata": {},
   "source": [
    "##### 2. ¿Qué tipo de problemas de calidad de datos logra identificar? Defina e implemente las estrategias de limpieza de datos que correspondan. \n",
    "##### R:// Todos los atributos presentan campos nulos por lo que procedemos a sacar la media en las columnas cuantitativas (math score - reading score - writing score) de cada columna y remplazarlos. Para las variables cualitativas creamos una nueva categoría denominada \"no reporta\" a excepción del test de preparación ya que cuenta con una feature none la cual puede ser remplazada en los campos nulos."
   ]
  },
  {
   "cell_type": "code",
   "execution_count": 14,
   "id": "f59c6267",
   "metadata": {},
   "outputs": [
    {
     "data": {
      "text/html": [
       "<div>\n",
       "<style scoped>\n",
       "    .dataframe tbody tr th:only-of-type {\n",
       "        vertical-align: middle;\n",
       "    }\n",
       "\n",
       "    .dataframe tbody tr th {\n",
       "        vertical-align: top;\n",
       "    }\n",
       "\n",
       "    .dataframe thead th {\n",
       "        text-align: right;\n",
       "    }\n",
       "</style>\n",
       "<table border=\"1\" class=\"dataframe\">\n",
       "  <thead>\n",
       "    <tr style=\"text-align: right;\">\n",
       "      <th></th>\n",
       "      <th>gender</th>\n",
       "      <th>race/ethnicity</th>\n",
       "      <th>parental level of education</th>\n",
       "      <th>lunch</th>\n",
       "      <th>test preparation course</th>\n",
       "      <th>math score</th>\n",
       "      <th>reading score</th>\n",
       "      <th>writing score</th>\n",
       "    </tr>\n",
       "  </thead>\n",
       "  <tbody>\n",
       "  </tbody>\n",
       "</table>\n",
       "</div>"
      ],
      "text/plain": [
       "Empty DataFrame\n",
       "Columns: [gender, race/ethnicity, parental level of education, lunch, test preparation course, math score, reading score, writing score]\n",
       "Index: []"
      ]
     },
     "execution_count": 14,
     "metadata": {},
     "output_type": "execute_result"
    }
   ],
   "source": [
    "#Verificamos si existen registros duplicados para borrarlos\n",
    "estudiantes_df[estudiantes_df.duplicated(keep=False)]"
   ]
  },
  {
   "cell_type": "code",
   "execution_count": 13,
   "id": "80b92f5c",
   "metadata": {},
   "outputs": [
    {
     "data": {
      "text/plain": [
       "gender                         47\n",
       "race/ethnicity                 45\n",
       "parental level of education    60\n",
       "lunch                          54\n",
       "test preparation course        41\n",
       "math score                     51\n",
       "reading score                  48\n",
       "writing score                  49\n",
       "dtype: int64"
      ]
     },
     "execution_count": 13,
     "metadata": {},
     "output_type": "execute_result"
    }
   ],
   "source": [
    "#Verificamos la cantidad de campos nulos\n",
    "estudiantes_df.isnull().sum()"
   ]
  },
  {
   "cell_type": "code",
   "execution_count": 27,
   "id": "7e76cc42",
   "metadata": {},
   "outputs": [],
   "source": [
    "#Se remplaza en el campo de preparación la feature nan por none\n",
    "estudiantes_df['test preparation course'].fillna(\"none\", inplace = True)"
   ]
  },
  {
   "cell_type": "code",
   "execution_count": 28,
   "id": "75c2fbb4",
   "metadata": {},
   "outputs": [
    {
     "data": {
      "text/plain": [
       "array(['none', 'completed'], dtype=object)"
      ]
     },
     "execution_count": 28,
     "metadata": {},
     "output_type": "execute_result"
    }
   ],
   "source": [
    "#Verificamos si se remplazo correctamente la feature\n",
    "estudiantes_df['test preparation course'].unique()"
   ]
  },
  {
   "cell_type": "code",
   "execution_count": 29,
   "id": "2cb24144",
   "metadata": {},
   "outputs": [],
   "source": [
    "#Remplazamos los valores nulos agregando una nueva categoria a los siguientes campos\n",
    "estudiantes_df['gender'].fillna(\"no reporta\", inplace = True)\n",
    "estudiantes_df['race/ethnicity'].fillna(\"no reporta\", inplace = True)\n",
    "estudiantes_df['parental level of education'].fillna(\"no reporta\", inplace = True)\n",
    "estudiantes_df['lunch'].fillna(\"no reporta\", inplace = True)"
   ]
  },
  {
   "cell_type": "code",
   "execution_count": 37,
   "id": "bd5ccb06",
   "metadata": {},
   "outputs": [],
   "source": [
    "#Remplazamos los valores nulos con la media de dicha columna\n",
    "estudiantes_df['reading score'].fillna(round(estudiantes_df['reading score'].mean()), inplace = True)"
   ]
  },
  {
   "cell_type": "code",
   "execution_count": 40,
   "id": "1b1e506d",
   "metadata": {},
   "outputs": [
    {
     "data": {
      "text/plain": [
       "0"
      ]
     },
     "execution_count": 40,
     "metadata": {},
     "output_type": "execute_result"
    }
   ],
   "source": [
    "#Validamos que ya no existan campos nulos dentro de esa columna\n",
    "estudiantes_df['reading score'].isnull().sum()"
   ]
  },
  {
   "cell_type": "code",
   "execution_count": 43,
   "id": "0be92fb3",
   "metadata": {},
   "outputs": [],
   "source": [
    "#Remplazamos los valores nulos con la media de las calificaciones de matemáticas a la misma columna\n",
    "estudiantes_df['math score'].fillna(round(estudiantes_df['math score'].mean()), inplace = True)"
   ]
  },
  {
   "cell_type": "code",
   "execution_count": 44,
   "id": "3e6152f7",
   "metadata": {},
   "outputs": [
    {
     "data": {
      "text/plain": [
       "0"
      ]
     },
     "execution_count": 44,
     "metadata": {},
     "output_type": "execute_result"
    }
   ],
   "source": [
    "#Validamos que ya no existan campos nulos dentro de la materia de matemáticas\n",
    "estudiantes_df['math score'].isnull().sum()"
   ]
  },
  {
   "cell_type": "code",
   "execution_count": 46,
   "id": "8e062db9",
   "metadata": {},
   "outputs": [],
   "source": [
    "#Remplazamos los valores nulos de la columna de escritura con la media de la misma\n",
    "estudiantes_df['writing score'].fillna(round(estudiantes_df['writing score'].mean()), inplace = True)"
   ]
  },
  {
   "cell_type": "code",
   "execution_count": 47,
   "id": "911ea538",
   "metadata": {},
   "outputs": [
    {
     "data": {
      "text/plain": [
       "0"
      ]
     },
     "execution_count": 47,
     "metadata": {},
     "output_type": "execute_result"
    }
   ],
   "source": [
    "#Validamos que ya no existan campos nulos dentro de la materia de escritura\n",
    "estudiantes_df['writing score'].isnull().sum()"
   ]
  },
  {
   "cell_type": "markdown",
   "id": "3a464b20",
   "metadata": {},
   "source": [
    "##### 3. ¿En qué asignatura en promedio los estudiantes obtuvieron un mejor puntaje? ¿Hay evidencia de algún sesgo en la distribución de dichos puntajes?  \n",
    "##### R://  Se observa que en promedio, los estudiantes obtuvieron un mejor puntaje en la asignatura de escritura con una media de  69,245 y a su vez se evidencia que puede tener una media alta debido a que es la asignatura que presenta el mejor puntaje mínimo entre las otras 2 asignaturas. Por ello la materia de matemáticas presenta una media inferior por lo que algún estudiante presento una puntuación de 0."
   ]
  },
  {
   "cell_type": "code",
   "execution_count": 49,
   "id": "2a4b65f5",
   "metadata": {},
   "outputs": [
    {
     "data": {
      "text/html": [
       "<div>\n",
       "<style scoped>\n",
       "    .dataframe tbody tr th:only-of-type {\n",
       "        vertical-align: middle;\n",
       "    }\n",
       "\n",
       "    .dataframe tbody tr th {\n",
       "        vertical-align: top;\n",
       "    }\n",
       "\n",
       "    .dataframe thead th {\n",
       "        text-align: right;\n",
       "    }\n",
       "</style>\n",
       "<table border=\"1\" class=\"dataframe\">\n",
       "  <thead>\n",
       "    <tr style=\"text-align: right;\">\n",
       "      <th></th>\n",
       "      <th>math score</th>\n",
       "      <th>reading score</th>\n",
       "      <th>writing score</th>\n",
       "    </tr>\n",
       "  </thead>\n",
       "  <tbody>\n",
       "    <tr>\n",
       "      <th>count</th>\n",
       "      <td>1000.000000</td>\n",
       "      <td>1000.000000</td>\n",
       "      <td>1000.000000</td>\n",
       "    </tr>\n",
       "    <tr>\n",
       "      <th>mean</th>\n",
       "      <td>66.114000</td>\n",
       "      <td>69.245000</td>\n",
       "      <td>68.173000</td>\n",
       "    </tr>\n",
       "    <tr>\n",
       "      <th>std</th>\n",
       "      <td>14.808927</td>\n",
       "      <td>14.197343</td>\n",
       "      <td>14.765131</td>\n",
       "    </tr>\n",
       "    <tr>\n",
       "      <th>min</th>\n",
       "      <td>0.000000</td>\n",
       "      <td>17.000000</td>\n",
       "      <td>10.000000</td>\n",
       "    </tr>\n",
       "    <tr>\n",
       "      <th>25%</th>\n",
       "      <td>58.000000</td>\n",
       "      <td>60.000000</td>\n",
       "      <td>58.000000</td>\n",
       "    </tr>\n",
       "    <tr>\n",
       "      <th>50%</th>\n",
       "      <td>66.000000</td>\n",
       "      <td>69.000000</td>\n",
       "      <td>68.000000</td>\n",
       "    </tr>\n",
       "    <tr>\n",
       "      <th>75%</th>\n",
       "      <td>76.000000</td>\n",
       "      <td>79.000000</td>\n",
       "      <td>78.000000</td>\n",
       "    </tr>\n",
       "    <tr>\n",
       "      <th>max</th>\n",
       "      <td>100.000000</td>\n",
       "      <td>100.000000</td>\n",
       "      <td>100.000000</td>\n",
       "    </tr>\n",
       "  </tbody>\n",
       "</table>\n",
       "</div>"
      ],
      "text/plain": [
       "        math score  reading score  writing score\n",
       "count  1000.000000    1000.000000    1000.000000\n",
       "mean     66.114000      69.245000      68.173000\n",
       "std      14.808927      14.197343      14.765131\n",
       "min       0.000000      17.000000      10.000000\n",
       "25%      58.000000      60.000000      58.000000\n",
       "50%      66.000000      69.000000      68.000000\n",
       "75%      76.000000      79.000000      78.000000\n",
       "max     100.000000     100.000000     100.000000"
      ]
     },
     "execution_count": 49,
     "metadata": {},
     "output_type": "execute_result"
    }
   ],
   "source": [
    "estudiantes_df.describe()"
   ]
  },
  {
   "cell_type": "markdown",
   "id": "199763c8",
   "metadata": {},
   "source": [
    "##### 4. ¿Existe alguna correlación entre los puntajes obtenidos en las tres asignaturas?\n",
    "##### R://  Verificando la correlación entre las 3 asignaturas, se puede observar que existe una alta correlación entre ellas, donde las asignaturas de escritura y lectura obtienen un resultado de más del 90% mientras que lectura con matemáticas obtienen un 78% y matemáticas con escritura un 75% son un poco más bajas pero aún así su correlación es bastante buena."
   ]
  },
  {
   "cell_type": "code",
   "execution_count": 72,
   "id": "9a8f78d5",
   "metadata": {},
   "outputs": [
    {
     "data": {
      "text/html": [
       "<div>\n",
       "<style scoped>\n",
       "    .dataframe tbody tr th:only-of-type {\n",
       "        vertical-align: middle;\n",
       "    }\n",
       "\n",
       "    .dataframe tbody tr th {\n",
       "        vertical-align: top;\n",
       "    }\n",
       "\n",
       "    .dataframe thead th {\n",
       "        text-align: right;\n",
       "    }\n",
       "</style>\n",
       "<table border=\"1\" class=\"dataframe\">\n",
       "  <thead>\n",
       "    <tr style=\"text-align: right;\">\n",
       "      <th></th>\n",
       "      <th>math score</th>\n",
       "      <th>reading score</th>\n",
       "      <th>writing score</th>\n",
       "    </tr>\n",
       "  </thead>\n",
       "  <tbody>\n",
       "    <tr>\n",
       "      <th>math score</th>\n",
       "      <td>1.000000</td>\n",
       "      <td>0.780753</td>\n",
       "      <td>0.752383</td>\n",
       "    </tr>\n",
       "    <tr>\n",
       "      <th>reading score</th>\n",
       "      <td>0.780753</td>\n",
       "      <td>1.000000</td>\n",
       "      <td>0.909499</td>\n",
       "    </tr>\n",
       "    <tr>\n",
       "      <th>writing score</th>\n",
       "      <td>0.752383</td>\n",
       "      <td>0.909499</td>\n",
       "      <td>1.000000</td>\n",
       "    </tr>\n",
       "  </tbody>\n",
       "</table>\n",
       "</div>"
      ],
      "text/plain": [
       "               math score  reading score  writing score\n",
       "math score       1.000000       0.780753       0.752383\n",
       "reading score    0.780753       1.000000       0.909499\n",
       "writing score    0.752383       0.909499       1.000000"
      ]
     },
     "execution_count": 72,
     "metadata": {},
     "output_type": "execute_result"
    }
   ],
   "source": [
    "#Validamos la correlación entre las 3 asignaturas\n",
    "estudiantes_df[['math score', 'reading score', 'writing score']].corr()"
   ]
  },
  {
   "cell_type": "markdown",
   "id": "cf9c97af",
   "metadata": {},
   "source": [
    "##### 5. ¿Hay alguna diferencia observable en los puntajes de la asignatura de matemáticas entre géneros? ¿Qué género obtuvo en promedio los mejores puntajes?\n",
    "##### R: // Se evidencia que los hombres presentan una mejor calificación para la asignatura de matemáticas con un puntaje de 68,51 pero la diferencia entre cada uno de ellos es mínima."
   ]
  },
  {
   "cell_type": "code",
   "execution_count": 54,
   "id": "9b0060e4",
   "metadata": {},
   "outputs": [
    {
     "data": {
      "text/plain": [
       "gender\n",
       "female        63.577830\n",
       "male          68.515544\n",
       "no reporta    64.446809\n",
       "non-binary    67.699301\n",
       "Name: math score, dtype: float64"
      ]
     },
     "execution_count": 54,
     "metadata": {},
     "output_type": "execute_result"
    }
   ],
   "source": [
    "#Agrupamos los géneros y visualizamos la media para la asignatura de matemáticas\n",
    "estudiantes_df.groupby(['gender']).agg('mean')['math score']"
   ]
  },
  {
   "cell_type": "markdown",
   "id": "e6358ff4",
   "metadata": {},
   "source": [
    "##### 7. ¿Qué porcentaje de los estudiantes obtuvieron puntajes iguales o superiores a 90 en las tres asignaturas? De estos estudiantes¿que porcentaje estudió para los exámenes?\n",
    "##### R:// "
   ]
  }
 ],
 "metadata": {
  "kernelspec": {
   "display_name": "Python 3 (ipykernel)",
   "language": "python",
   "name": "python3"
  },
  "language_info": {
   "codemirror_mode": {
    "name": "ipython",
    "version": 3
   },
   "file_extension": ".py",
   "mimetype": "text/x-python",
   "name": "python",
   "nbconvert_exporter": "python",
   "pygments_lexer": "ipython3",
   "version": "3.9.12"
  }
 },
 "nbformat": 4,
 "nbformat_minor": 5
}
